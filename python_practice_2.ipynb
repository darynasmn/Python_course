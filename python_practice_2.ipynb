{
  "cells": [
    {
      "cell_type": "markdown",
      "metadata": {
        "id": "p9wwt0LZzNvn"
      },
      "source": [
        "# I. Змінні та памʼять."
      ]
    },
    {
      "cell_type": "markdown",
      "metadata": {
        "id": "HTJrrm95xSV9"
      },
      "source": [
        "1. Створити змінні, що посилаються на два цілих числа, що однакові за значенням, де значення належить проміжку від -5 до 256. Перевірте, чи будуть ці змінні рівні тільки за значенням або ж ще будуть посилатися на один і той самий обʼєкт в памʼяті? Наведіть код та дайте текстову відповідь нижче."
      ]
    },
    {
      "cell_type": "code",
      "execution_count": 2,
      "metadata": {
        "id": "TATni2vzayjG"
      },
      "outputs": [
        {
          "name": "stdout",
          "output_type": "stream",
          "text": [
            "Значення a та b рівні: True\n",
            "a посилається на той самий об'єкт, що і b: True\n"
          ]
        }
      ],
      "source": [
        "a = 100\n",
        "b = 100\n",
        "\n",
        "print(\"Значення a та b рівні:\", a == b)  \n",
        "print(\"a посилається на той самий об'єкт, що і b:\", a is b)"
      ]
    },
    {
      "cell_type": "markdown",
      "metadata": {
        "id": "zfRG_o3WbRdg"
      },
      "source": [
        "Ми перевірили, і дійсно вийшло, що вони однакові за значенням і посилаються на один і той самий об'єкт."
      ]
    },
    {
      "cell_type": "markdown",
      "metadata": {
        "id": "ISORzt6M3vAt"
      },
      "source": [
        "2. За допомогою якої функції можна перевірити належність змінної до вказаного типу даних (напр. чи змінна True посилається на значення булевого та цілочисленого типу)?"
      ]
    },
    {
      "cell_type": "code",
      "execution_count": 10,
      "metadata": {
        "id": "9vL9CFaMbfyo"
      },
      "outputs": [
        {
          "name": "stdout",
          "output_type": "stream",
          "text": [
            "Належність змінної boolean до буленого типу:  False\n",
            "Належність змінної boolean до цілочисленого типу:  True\n"
          ]
        }
      ],
      "source": [
        "# для перевірки на належність змінної до вказаного типу я завжди використовую функцію isinstance()\n",
        "# наприклад: \n",
        "INT = 2 \n",
        "\n",
        "print(\"Належність змінної boolean до буленого типу: \",isinstance(INT, bool))\n",
        "print(\"Належність змінної boolean до цілочисленого типу: \",isinstance(INT, int))\n"
      ]
    },
    {
      "cell_type": "markdown",
      "metadata": {
        "id": "tRxugKAxwYLw"
      },
      "source": [
        "# II. Цілі числа та числа з рухомою комою"
      ]
    },
    {
      "cell_type": "markdown",
      "metadata": {
        "id": "NLHkgd5Gybc8"
      },
      "source": [
        "3. Створити дві змінні, що посилаються на будь-які ціле число та число з рухомою комою та продемонструвати такі арифметичні операції: додавання, віднімання, ділення, множення, ділення без залишку, ділення по модулю, приведення до ступеню. Всі результати операцій вивести на екран."
      ]
    },
    {
      "cell_type": "code",
      "execution_count": 13,
      "metadata": {
        "id": "nb8u_3pjb2cA"
      },
      "outputs": [
        {
          "name": "stdout",
          "output_type": "stream",
          "text": [
            "Додавання:  12.7\n",
            "\n",
            "Віднімання:  7.3\n",
            "\n",
            "Ділення:  3.7037037037037033\n",
            "\n",
            "Множення:  27.0\n",
            "\n",
            "Ділення без залишку:  3.0\n",
            "\n",
            "Ділення по модулю:  1.8999999999999995\n",
            "\n",
            "Піднесення до ступеня INT:  100\n",
            "\n",
            "Піднесення до ступеня FLOAT:  7.290000000000001\n"
          ]
        }
      ],
      "source": [
        "INT = 10\n",
        "FLOAT = 2.7\n",
        "\n",
        "print(\"Додавання: \", INT + FLOAT)\n",
        "\n",
        "print(\"\\nВіднімання: \", INT - FLOAT)\n",
        "\n",
        "print(\"\\nДілення: \", INT / FLOAT)\n",
        "\n",
        "print(\"\\nМноження: \", INT * FLOAT)\n",
        "\n",
        "print(\"\\nДілення без залишку: \", INT // FLOAT)\n",
        "\n",
        "print(\"\\nДілення по модулю: \", INT % FLOAT)\n",
        "\n",
        "print(\"\\nПіднесення до ступеня INT: \", INT ** 2)\n",
        "print(\"\\nПіднесення до ступеня FLOAT: \", FLOAT **2 )"
      ]
    },
    {
      "cell_type": "markdown",
      "metadata": {
        "id": "1kBClKgPzZnC"
      },
      "source": [
        "4. Використовуючи змінні з вправи 3, продемонструйте механізм явного перетворення типів, де числа з рухомою комою перетворюються на цілі числа. Також визначте змінну, що посилається на значення булевого типу і спробуйте явно привести її до цілого числа."
      ]
    },
    {
      "cell_type": "code",
      "execution_count": 18,
      "metadata": {
        "id": "TbqJbkeUcKsD"
      },
      "outputs": [
        {
          "name": "stdout",
          "output_type": "stream",
          "text": [
            "FLOAT перетворене на ціле число: 2\n",
            "Змінна з булевим значенням boolean перетворена на ціле число: 0\n"
          ]
        }
      ],
      "source": [
        "print(\"FLOAT перетворене на ціле число:\", int(FLOAT))\n",
        "\n",
        "boolean = False\n",
        "\n",
        "print(\"Змінна з булевим значенням boolean перетворена на ціле число:\", int(boolean))\n"
      ]
    },
    {
      "cell_type": "markdown",
      "metadata": {
        "id": "EVJ7AflwxrZi"
      },
      "source": [
        "# IІІ. Рядки (String)."
      ]
    },
    {
      "cell_type": "markdown",
      "metadata": {
        "id": "_s5ECzz9zE61"
      },
      "source": [
        "5. Створити пустий рядок двома різними способами."
      ]
    },
    {
      "cell_type": "code",
      "execution_count": 19,
      "metadata": {
        "id": "fkZJHu9Scvc-"
      },
      "outputs": [],
      "source": [
        "empty_row_1 = \"\"\n",
        "empty_row_2 = str()\n"
      ]
    },
    {
      "cell_type": "markdown",
      "metadata": {
        "id": "4Bdn9J3MzLf_"
      },
      "source": [
        "6. Створити рядок з апострофом. Зробити його сирим. Вивести обидва рядка на екран."
      ]
    },
    {
      "cell_type": "code",
      "execution_count": 3,
      "metadata": {
        "id": "ivji_hsmc0GH"
      },
      "outputs": [
        {
          "name": "stdout",
          "output_type": "stream",
          "text": [
            "It's a string with an apostrophe\n",
            "\"It's a string with an apostrophe\"\n"
          ]
        }
      ],
      "source": [
        "string_with_apostrophe = \"It's a string with an apostrophe\"\n",
        "\n",
        "raw_string_with_apostrophe = \"%r\"%string_with_apostrophe\n",
        "\n",
        "print(string_with_apostrophe)\n",
        "print(raw_string_with_apostrophe)"
      ]
    },
    {
      "cell_type": "markdown",
      "metadata": {
        "id": "bg_d8wM4z8dS"
      },
      "source": [
        "7. Створити змінну, що буде посилатися на Ваше прізвище латинкою. Створити форматований рядок, який буде мати вигляд \"My surname is ______\", де на місці нижніх підкреслень буде Ваше прізвище зі змінної."
      ]
    },
    {
      "cell_type": "code",
      "execution_count": 25,
      "metadata": {
        "id": "kuxFgpWndACq"
      },
      "outputs": [
        {
          "name": "stdout",
          "output_type": "stream",
          "text": [
            "My surname is Daryna\n"
          ]
        }
      ],
      "source": [
        "name = \"Daryna\"\n",
        "my_name = \"My surname is {}\".format(name)\n",
        "print(my_name)"
      ]
    },
    {
      "cell_type": "markdown",
      "metadata": {
        "id": "1Nc6RqvQ0hxU"
      },
      "source": [
        "8. Маючи рядок \"My dog is crazy.\" перетворити його на список [\"my\", \"dog\", \"is\", \"crazy\"]"
      ]
    },
    {
      "cell_type": "code",
      "execution_count": 41,
      "metadata": {
        "id": "w1Ya4RqedUhw"
      },
      "outputs": [
        {
          "name": "stdout",
          "output_type": "stream",
          "text": [
            "['My', 'dog', 'is', 'crazy']\n"
          ]
        }
      ],
      "source": [
        "string = \"My dog is crazy\"\n",
        "transform_string = list(string.split(\" \"))\n",
        "print(transform_string)"
      ]
    },
    {
      "cell_type": "markdown",
      "metadata": {
        "id": "GYVqN9uP1D4n"
      },
      "source": [
        "# IV. Робота зі списками."
      ]
    },
    {
      "cell_type": "markdown",
      "metadata": {
        "id": "7-DeDunw2sO-"
      },
      "source": [
        "9. Створити список двома різними за синтаксисом способами. За допомогою вбудованої функції обчисліть довжину одного з них."
      ]
    },
    {
      "cell_type": "code",
      "execution_count": 48,
      "metadata": {
        "id": "zxg06Uuxdyoh"
      },
      "outputs": [
        {
          "name": "stdout",
          "output_type": "stream",
          "text": [
            "Довжина list_1:  3\n",
            "Довжина list_2:  10\n"
          ]
        }
      ],
      "source": [
        "list_1 = [\"perfect\", \"awesome\", \"wonderfull\"]\n",
        "list_2 = list(range(10))\n",
        "print(\"Довжина list_1: \", len(list_1))\n",
        "print(\"Довжина list_2: \", len(list_2))"
      ]
    },
    {
      "cell_type": "markdown",
      "metadata": {
        "id": "8vmGUTjL22gI"
      },
      "source": [
        "10. Створіть два списка та за допомогою спеціального методу додайте другий з них в якості останнього елемента першого."
      ]
    },
    {
      "cell_type": "code",
      "execution_count": 50,
      "metadata": {
        "id": "uHtjWYw7d7hm"
      },
      "outputs": [
        {
          "name": "stdout",
          "output_type": "stream",
          "text": [
            "Після додавання: [1, 2, 3, 4, 5, [6, 7, 8, 9, 10]]\n"
          ]
        }
      ],
      "source": [
        "list1 = [1, 2, 3, 4, 5]\n",
        "list2 = [6, 7, 8, 9, 10]\n",
        "\n",
        "list1.append(list2)\n",
        "\n",
        "print(\"Після додавання:\", list1)"
      ]
    },
    {
      "cell_type": "markdown",
      "metadata": {
        "id": "JC3BkD-67_--"
      },
      "source": [
        "11. Створіть список, де елементами цього списку також є списки. Отримай перший елемент з останнього рядка та виведи значення на екран."
      ]
    },
    {
      "cell_type": "code",
      "execution_count": 53,
      "metadata": {
        "id": "Kz2jZHsGeLlz"
      },
      "outputs": [
        {
          "name": "stdout",
          "output_type": "stream",
          "text": [
            "Перший елемент з останнього рядка: pineapple\n"
          ]
        }
      ],
      "source": [
        "nested_list = [[122, 'apple', 23], [48, 59, 'banana'], [ 'pineapple', 118, 'strawberry']]\n",
        "\n",
        "first_element_of_last_row = nested_list[-1][0]\n",
        "\n",
        "print(\"Перший елемент з останнього рядка:\", first_element_of_last_row)"
      ]
    },
    {
      "cell_type": "markdown",
      "metadata": {
        "id": "JA47PKTv8zFK"
      },
      "source": [
        "12. Створіть список з десяти елементів різного типу. Отримайте всі елементи, окрім двох перших та двох останніх та збережіть їх в новій змінній."
      ]
    },
    {
      "cell_type": "code",
      "execution_count": 54,
      "metadata": {
        "id": "_rHdUR-ueP4-"
      },
      "outputs": [
        {
          "name": "stdout",
          "output_type": "stream",
          "text": [
            "список без перших двох та останніх двох елементів: [3.0, (4+5j), ['six', 7], {'eight': 8}, True, None]\n"
          ]
        }
      ],
      "source": [
        "list = [1, \"two\", 3.0, (4+5j), [\"six\", 7], {\"eight\": 8}, True, None, 'nine', {'ten'}]\n",
        "\n",
        "chosing = list[2:-2]\n",
        "\n",
        "print(\"список без перших двох та останніх двох елементів:\", chosing)\n"
      ]
    },
    {
      "cell_type": "markdown",
      "metadata": {
        "id": "pCjR1dJb1Qbi"
      },
      "source": [
        "# V. Робота з кортежами."
      ]
    },
    {
      "cell_type": "markdown",
      "metadata": {
        "id": "fAZCxAX06R_k"
      },
      "source": [
        "14. Створити кортеж з один елементом."
      ]
    },
    {
      "cell_type": "code",
      "execution_count": 58,
      "metadata": {
        "id": "H7d82WkQev3e"
      },
      "outputs": [
        {
          "name": "stdout",
          "output_type": "stream",
          "text": [
            "(1,)\n"
          ]
        }
      ],
      "source": [
        "my_tuple = (1,)\n",
        "print(my_tuple)"
      ]
    },
    {
      "cell_type": "markdown",
      "metadata": {
        "id": "8LCtYcmI6w1M"
      },
      "source": [
        "15. Порівняйте список та кортеж. Назвіть схожості та відмінності, випадки використання."
      ]
    },
    {
      "cell_type": "markdown",
      "metadata": {
        "id": "fUsN1Hnue0C6"
      },
      "source": [
        "Схожості:\n",
        "Обидва можуть зберігати колекції об'єктів.\n",
        "Можна звертатися до елементів за допомогою індексації та перебирати їх у циклі for.\n",
        "\n",
        "Відмінності:\n",
        "Список можна змінювати, кортеж - ні.\n",
        "Список створюється з квадратних дужок [], кортеж - з круглих ().\n",
        "Кортежі можуть бути швидшими, особливо при великих обсягах даних.\n",
        "Зазвичай списки використовуються для змінних даних, а кортежі - для незмінних.\n",
        "\n",
        "Випадки використання залежать від типу колекції даних, так як , як вже було зазаначено вище, список використовується для змінних колекцій даних, тоді як кортеж використовується для незмінних колекцій даних."
      ]
    },
    {
      "cell_type": "markdown",
      "metadata": {
        "id": "m0xrwFijAmDD"
      },
      "source": [
        "16. Створіть кортеж з 11ти елементів чисел з рухомою комою та отримайте кожен парний за індексом елемент в зворотньому порядку. Наприклад, маючи (1.2, 2.3, 3.3, 4.3, 5.3, 6.3, 7.3, 8.3, 9.3, 0.3), отримати (0.3, 8.3, 6.3, 4.3, 2.3). Результат збережіть в нову змінну та виведіть на екран."
      ]
    },
    {
      "cell_type": "code",
      "execution_count": 4,
      "metadata": {
        "id": "p-5DAH6XfAGA"
      },
      "outputs": [
        {
          "name": "stdout",
          "output_type": "stream",
          "text": [
            "(10.14, 8.12, 6.1, 4.8, 2.6)\n"
          ]
        }
      ],
      "source": [
        "my_tuple = (1.5, 2.6, 3.7, 4.8, 5.9, 6.1, 7.11, 8.12, 9.13, 10.14, 11.15)\n",
        "\n",
        "result = my_tuple[-2::-2]\n",
        "\n",
        "print(result)"
      ]
    },
    {
      "cell_type": "markdown",
      "metadata": {
        "id": "rW_I9dt3x6cW"
      },
      "source": [
        "# VI. Множини (Set)."
      ]
    },
    {
      "cell_type": "markdown",
      "metadata": {
        "id": "zNjRLHLw1Bgg"
      },
      "source": [
        "17. Створити множину без елементів. Після цого за допомогою методу додайте кілька різних елементів до множини. Чи множини є змінним типом даних?"
      ]
    },
    {
      "cell_type": "code",
      "execution_count": 1,
      "metadata": {
        "id": "KOv7zc2Kfo4N"
      },
      "outputs": [
        {
          "name": "stdout",
          "output_type": "stream",
          "text": [
            "{1, 3.0, 'two'}\n"
          ]
        }
      ],
      "source": [
        "my_set = set()\n",
        "\n",
        "my_set.add(1)\n",
        "my_set.add('two')\n",
        "my_set.add(3.0)\n",
        "\n",
        "print(my_set)"
      ]
    },
    {
      "cell_type": "markdown",
      "metadata": {
        "id": "vxS6dVYiftZQ"
      },
      "source": [
        "Множини є змінним типом даних, оскільки вони можуть змінюватися, додавати та видаляти елементи"
      ]
    },
    {
      "cell_type": "markdown",
      "metadata": {
        "id": "gHpT0Zw_1HEF"
      },
      "source": [
        "18. Створити множину, маючи список my_list = [1, 1, 2, 67, 67, 8, 9]. Пояснити, чому \"зникли\" деякі елементи."
      ]
    },
    {
      "cell_type": "code",
      "execution_count": 6,
      "metadata": {
        "id": "qCN4uvJ_fxmu"
      },
      "outputs": [
        {
          "name": "stdout",
          "output_type": "stream",
          "text": [
            "{1, 2, 67, 8, 9}\n"
          ]
        }
      ],
      "source": [
        "my_list = [1, 1, 2, 67, 67, 8, 9]\n",
        "my_set = set(my_list)\n",
        "print(my_set)"
      ]
    },
    {
      "cell_type": "markdown",
      "metadata": {
        "id": "tFNc1e20fyny"
      },
      "source": [
        "У множині кожен елемент повинен бути унікальним, тому при створенні дубльовані значення втрачаються"
      ]
    },
    {
      "cell_type": "markdown",
      "metadata": {
        "id": "SRMkGizS1UwY"
      },
      "source": [
        "19. Створіть дві множини. Продемонстуйте над ними операції: обʼєднання, різниці, пересічі та симетричної різниці. Використовуйте методи, що не змінюють множини, а створюють нові."
      ]
    },
    {
      "cell_type": "code",
      "execution_count": 7,
      "metadata": {
        "id": "h0T-VuDnf3Ri"
      },
      "outputs": [
        {
          "name": "stdout",
          "output_type": "stream",
          "text": [
            "Об'єднання множин: {34, 66, 68, 73, 83, 21, 29, 95}\n",
            "Різниця множин: {73, 34, 29}\n",
            "Перетин множин: {21, 95}\n",
            "Симетрична різниця множин: {66, 83, 68, 34, 73, 29}\n"
          ]
        }
      ],
      "source": [
        "set_1 = {21, 29, 73, 34, 95}\n",
        "set_2 = {95, 66, 21, 68, 83}\n",
        "\n",
        "union_set = set_1.union(set_2)\n",
        "print(\"Об'єднання множин:\", union_set)\n",
        "\n",
        "difference_set = set_1.difference(set_2)\n",
        "print(\"Різниця множин:\", difference_set)\n",
        "\n",
        "intersection_set = set_1.intersection(set_2)\n",
        "print(\"Перетин множин:\", intersection_set)\n",
        "\n",
        "symmetric_difference_set = set_1.symmetric_difference(set_2)\n",
        "print(\"Симетрична різниця множин:\", symmetric_difference_set)\n"
      ]
    },
    {
      "cell_type": "markdown",
      "metadata": {
        "id": "kWc8gkzTx7Ea"
      },
      "source": [
        "# VII. Словники (Dictionary)."
      ]
    },
    {
      "cell_type": "markdown",
      "metadata": {
        "id": "i5FLwj-B2ybQ"
      },
      "source": [
        "20. Створіть пустий словник. До нього додайте чотири пари елементів такі, щоб їхні ключі були різних типів. Чи може список бути ключем? Чому?"
      ]
    },
    {
      "cell_type": "code",
      "execution_count": 9,
      "metadata": {
        "id": "hxgv3BzrgLAV"
      },
      "outputs": [
        {
          "name": "stdout",
          "output_type": "stream",
          "text": [
            "{5: 'five', 'six': 6, 7.0: 'seven', 'eight': [8, 8, 8]}\n"
          ]
        }
      ],
      "source": [
        "my_dict = {}\n",
        "\n",
        "my_dict.update({5: 'five', 'six': 6})\n",
        "\n",
        "my_dict[7.0] = 'seven'\n",
        "my_dict['eight'] = [8, 8, 8]\n",
        "\n",
        "print(my_dict)"
      ]
    },
    {
      "cell_type": "markdown",
      "metadata": {
        "id": "zwa7UVN-gR3m"
      },
      "source": [
        "Список не може бути ключем у словнику. Ключі у словнику повинні бути хешованими, а як вже було сказано список - змінюваний тип даних"
      ]
    },
    {
      "cell_type": "markdown",
      "metadata": {
        "id": "WM_pMlJsgoNf"
      },
      "source": [
        "21. Створіть словник, де значенням в одній з пар теж буде словник, який теж має вкладений словник. Виведіть на екран значення, що міститься в словнику, що знаходиться на найнижчому рівні ієрархії вкладеності (найбільш внутрішній)."
      ]
    },
    {
      "cell_type": "code",
      "execution_count": 11,
      "metadata": {
        "id": "60dlP7IHhAy4"
      },
      "outputs": [
        {
          "name": "stdout",
          "output_type": "stream",
          "text": [
            "great-grandchildren\n",
            "{'parents': {'children': {'grandchildren': 'great-grandchildren'}}}\n"
          ]
        }
      ],
      "source": [
        "inner_inner_dict = {'grandchildren': 'great-grandchildren'}\n",
        "\n",
        "inner_dict = {'children': inner_inner_dict}\n",
        "\n",
        "my_dict = {'parents': inner_dict}\n",
        "\n",
        "print(my_dict['parents']['children']['grandchildren'])\n",
        "print(my_dict)\n"
      ]
    },
    {
      "cell_type": "markdown",
      "metadata": {
        "id": "xOZP0hkx6cCr"
      },
      "source": [
        "# Вітаю! Ви велика(ий) молодець, що впоралась(вся). Похваліть себе та побалуйте чимось приємним. Я Вами пишаюся."
      ]
    }
  ],
  "metadata": {
    "colab": {
      "provenance": []
    },
    "kernelspec": {
      "display_name": "Python 3",
      "name": "python3"
    },
    "language_info": {
      "codemirror_mode": {
        "name": "ipython",
        "version": 3
      },
      "file_extension": ".py",
      "mimetype": "text/x-python",
      "name": "python",
      "nbconvert_exporter": "python",
      "pygments_lexer": "ipython3",
      "version": "3.11.2"
    }
  },
  "nbformat": 4,
  "nbformat_minor": 0
}
